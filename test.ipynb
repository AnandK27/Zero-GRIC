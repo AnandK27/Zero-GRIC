{
 "cells": [
  {
   "cell_type": "code",
   "execution_count": 1,
   "metadata": {},
   "outputs": [
    {
     "name": "stderr",
     "output_type": "stream",
     "text": [
      "c:\\Users\\anand\\AppData\\Local\\Programs\\Python\\Python311\\Lib\\site-packages\\huggingface_hub\\file_download.py:1132: FutureWarning: `resume_download` is deprecated and will be removed in version 1.0.0. Downloads always resume when possible. If you want to force a new download, use `force_download=True`.\n",
      "  warnings.warn(\n",
      "c:\\Users\\anand\\AppData\\Local\\Programs\\Python\\Python311\\Lib\\site-packages\\transformers\\generation\\utils.py:1178: UserWarning: Using the model-agnostic default `max_length` (=20) to control the generation length. We recommend setting `max_new_tokens` to control the maximum length of the generation.\n",
      "  warnings.warn(\n"
     ]
    },
    {
     "name": "stdout",
     "output_type": "stream",
     "text": [
      "hi\n",
      "hi\n",
      "hi\n",
      "hi\n",
      "hi\n",
      "hi\n",
      "hi\n",
      "hi\n",
      "hi\n",
      "hi\n",
      "hi\n",
      "hi\n",
      "hi\n",
      "hi\n",
      "['A plane that is flying in the air during the day']\n"
     ]
    }
   ],
   "source": [
    "from transformers import BartForConditionalGeneration, BartTokenizer\n",
    "\n",
    "model = BartForConditionalGeneration.from_pretrained(\"facebook/bart-large\", forced_bos_token_id=0)\n",
    "tok = BartTokenizer.from_pretrained(\"facebook/bart-large\")\n",
    "example_english_phrase = \"A plane that is flying in the air during the day\"\n",
    "batch = tok(example_english_phrase, return_tensors=\"pt\")\n",
    "generated_ids = model.generate(batch[\"input_ids\"])\n",
    "print(tok.batch_decode(generated_ids, skip_special_tokens=True))"
   ]
  },
  {
   "cell_type": "code",
   "execution_count": 2,
   "metadata": {},
   "outputs": [
    {
     "name": "stdout",
     "output_type": "stream",
     "text": [
      "None\n"
     ]
    }
   ],
   "source": [
    "print(model.generation_config.force_words_ids)"
   ]
  },
  {
   "cell_type": "code",
   "execution_count": 3,
   "metadata": {},
   "outputs": [
    {
     "name": "stdout",
     "output_type": "stream",
     "text": [
      "hi\n"
     ]
    }
   ],
   "source": [
    "output = model.forward(batch[\"input_ids\"])"
   ]
  },
  {
   "cell_type": "code",
   "execution_count": 4,
   "metadata": {},
   "outputs": [],
   "source": [
    "decoded_output = model.model.decoder(inputs_embeds=output.encoder_last_hidden_state ,encoder_hidden_states=output.encoder_last_hidden_state)"
   ]
  },
  {
   "cell_type": "code",
   "execution_count": 5,
   "metadata": {},
   "outputs": [
    {
     "data": {
      "text/plain": [
       "odict_keys(['last_hidden_state', 'past_key_values'])"
      ]
     },
     "execution_count": 5,
     "metadata": {},
     "output_type": "execute_result"
    }
   ],
   "source": [
    "decoded_output.keys()"
   ]
  },
  {
   "cell_type": "code",
   "execution_count": 6,
   "metadata": {},
   "outputs": [],
   "source": [
    "import torch"
   ]
  },
  {
   "cell_type": "code",
   "execution_count": 107,
   "metadata": {},
   "outputs": [],
   "source": [
    "# Initialize the model and tokenizer\n",
    "model = BartForConditionalGeneration.from_pretrained(\"facebook/bart-large\")\n",
    "tokenizer = BartTokenizer.from_pretrained(\"facebook/bart-large\")\n",
    "\n",
    "# Prepare the input\n",
    "example_english_phrase = \"picture of a white airplane flying in the sky is cool.\"\n",
    "batch = tokenizer(example_english_phrase, return_tensors=\"pt\")\n",
    "input_ids = batch[\"input_ids\"]\n",
    "\n",
    "# Pass through the encoder\n",
    "encoder_outputs = model.model.encoder(input_ids)\n",
    "encoder_embeddings = encoder_outputs.last_hidden_state\n"
   ]
  },
  {
   "cell_type": "code",
   "execution_count": 108,
   "metadata": {},
   "outputs": [],
   "source": [
    "decoder_input_ids = torch.full(\n",
    "    (input_ids.shape[0], 1),\n",
    "    model.config.decoder_start_token_id,\n",
    "    dtype=torch.long,\n",
    "    device=input_ids.device\n",
    ")"
   ]
  },
  {
   "cell_type": "code",
   "execution_count": 109,
   "metadata": {},
   "outputs": [],
   "source": [
    "encoder_outputs.last_hidden_state = torch.cat([encoder_outputs.last_hidden_state, torch.zeros((encoder_outputs.last_hidden_state.shape[0], 1,encoder_outputs.last_hidden_state.shape[2]))], dim=1)"
   ]
  },
  {
   "cell_type": "code",
   "execution_count": 110,
   "metadata": {},
   "outputs": [
    {
     "name": "stdout",
     "output_type": "stream",
     "text": [
      "hi\n",
      "hi\n",
      "hi\n"
     ]
    }
   ],
   "source": [
    "output_ids = model.generate(encoder_outputs=encoder_outputs, decoder_input_ids=input_ids)"
   ]
  },
  {
   "cell_type": "code",
   "execution_count": 111,
   "metadata": {},
   "outputs": [
    {
     "name": "stdout",
     "output_type": "stream",
     "text": [
      "['picture of a white airplane flying in the sky is cool.a']\n"
     ]
    }
   ],
   "source": [
    "print(tok.batch_decode(output_ids, skip_special_tokens=True))"
   ]
  },
  {
   "cell_type": "code",
   "execution_count": null,
   "metadata": {},
   "outputs": [],
   "source": [
    "\n",
    "# Prepare initial decoder input (start with the decoder_start_token_id)\n",
    "decoder_input_ids = torch.full(\n",
    "    (input_ids.shape[0], 1),\n",
    "    model.config.decoder_start_token_id,\n",
    "    dtype=torch.long,\n",
    "    device=input_ids.device\n",
    ")\n",
    "\n",
    "# Container for storing decoder embeddings\n",
    "decoder_embeddings = []\n",
    "max_decoder_steps = 50  # Limit to prevent infinite loops\n",
    "\n",
    "# Run decoding in a loop\n",
    "for step in range(max_decoder_steps):\n",
    "    decoder_output = model.model.decoder(input_ids=decoder_input_ids,encoder_hidden_states=encoder_embeddings)\n",
    "\n",
    "    # Get the embeddings of the last token produced\n",
    "    last_token_embedding = decoder_output.last_hidden_state[:, -1, :]\n",
    "    decoder_embeddings.append(last_token_embedding)\n",
    "\n",
    "    # Predict the next token\n",
    "    next_token_logits = model.lm_head(last_token_embedding)\n",
    "    next_token = torch.argmax(next_token_logits, dim=-1, keepdim=True)\n",
    "    print(next_token)\n",
    "\n",
    "    # Check for end of sequence token\n",
    "    if next_token.item() == tokenizer.eos_token_id:\n",
    "        break\n",
    "\n",
    "    # Append the predicted token to the decoder input\n",
    "    decoder_input_ids = torch.cat([decoder_input_ids, next_token], dim=-1)\n",
    "\n",
    "# Convert the list of tensors to a tensor\n",
    "decoder_embeddings = torch.stack(decoder_embeddings, dim=1)\n",
    "\n",
    "# Decode the generated token IDs back into text\n",
    "decoded_text = tokenizer.decode(decoder_input_ids.squeeze(), skip_special_tokens=True)\n",
    "\n",
    "print(\"Decoded Text:\", decoded_text)\n",
    "print(\"Decoder Embeddings Shape:\", decoder_embeddings.shape)"
   ]
  }
 ],
 "metadata": {
  "kernelspec": {
   "display_name": "Python 3",
   "language": "python",
   "name": "python3"
  },
  "language_info": {
   "codemirror_mode": {
    "name": "ipython",
    "version": 3
   },
   "file_extension": ".py",
   "mimetype": "text/x-python",
   "name": "python",
   "nbconvert_exporter": "python",
   "pygments_lexer": "ipython3",
   "version": "3.11.2"
  }
 },
 "nbformat": 4,
 "nbformat_minor": 2
}
